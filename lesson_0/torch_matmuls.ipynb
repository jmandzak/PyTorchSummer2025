{
 "cells": [
  {
   "cell_type": "code",
   "execution_count": null,
   "id": "a14af80a",
   "metadata": {},
   "outputs": [],
   "source": [
    "import torch"
   ]
  },
  {
   "cell_type": "markdown",
   "id": "52596ba2",
   "metadata": {},
   "source": [
    "# There are 4 main ways to multiply matrices in PyTorch\n",
    "- `torch.matmul()`\n",
    "- `torch.mm()`\n",
    "- `torch.bmm()`\n",
    "- `torch.mul()`  This does NOT perform traditional matrix multiplication, but is often mentioned along with the others"
   ]
  },
  {
   "cell_type": "code",
   "execution_count": null,
   "id": "e7545095",
   "metadata": {},
   "outputs": [],
   "source": [
    "mat1 = torch.tensor([[1, 2], [3, 4]], dtype=torch.int32)\n",
    "mat2 = torch.ones([2,2], dtype=torch.int32)\n",
    "print(f\"Matrix 1:\\n{mat1}\")\n",
    "print(f\"Matrix 2:\\n{mat2}\")"
   ]
  },
  {
   "cell_type": "code",
   "execution_count": null,
   "id": "afc94d5e",
   "metadata": {},
   "outputs": [],
   "source": [
    "print(\"torch.matmul(mat1, mat2):\")\n",
    "print(\"Most common way to multiply matrices in PyTorch. Will automatically handle broadcasting and can handle higher dimensions.\")\n",
    "print(torch.matmul(mat1, mat2))\n",
    "print('\\n')\n",
    "\n",
    "print(\"torch.mm(mat1, mat2):\")\n",
    "print(\"torch.mm is a specialized function for 2D matrix multiplication. It does not handle broadcasting and expects both inputs to be 2D tensors.\")\n",
    "print(torch.mm(mat1, mat2))\n",
    "print('\\n')\n",
    "\n",
    "print(\"torch.bmm(mat1.unsqueeze(0), mat2.unsqueeze(0)):\")\n",
    "print(\"torch.bmm is used for batch matrix multiplication. It expects 3D tensors where the first dimension is the batch size. Here, we unsqueeze to add a batch dimension.\")\n",
    "print(torch.bmm(mat1.unsqueeze(0), mat2.unsqueeze(0)))\n",
    "print('\\n')\n",
    "\n",
    "print(\"torch.mul(mat1, mat2):\")\n",
    "print(\"torch.mul performs element-wise multiplication. It does not perform matrix multiplication but multiplies corresponding elements of the two tensors.\")\n",
    "print(\"Note: This is equivalent to using the * operator for element-wise multiplication.\")\n",
    "print(torch.mul(mat1, mat2))\n",
    "print('\\n')"
   ]
  },
  {
   "cell_type": "markdown",
   "id": "c974a0fd",
   "metadata": {},
   "source": [
    "For help with broadcasting, see here:\n",
    "https://docs.pytorch.org/docs/stable/notes/broadcasting.html#broadcasting-semantics"
   ]
  }
 ],
 "metadata": {
  "kernelspec": {
   "display_name": "Python 3 (ipykernel)",
   "language": "python",
   "name": "python3"
  },
  "language_info": {
   "codemirror_mode": {
    "name": "ipython",
    "version": 3
   },
   "file_extension": ".py",
   "mimetype": "text/x-python",
   "name": "python",
   "nbconvert_exporter": "python",
   "pygments_lexer": "ipython3",
   "version": "3.13.3"
  }
 },
 "nbformat": 4,
 "nbformat_minor": 5
}
